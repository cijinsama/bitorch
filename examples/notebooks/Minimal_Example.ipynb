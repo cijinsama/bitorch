{
 "cells": [
  {
   "attachments": {},
   "cell_type": "markdown",
   "metadata": {},
   "source": [
    "# Minimal Example of using a pretrained Binary Model for Inference"
   ]
  },
  {
   "cell_type": "code",
   "execution_count": 1,
   "metadata": {},
   "outputs": [
    {
     "name": "stderr",
     "output_type": "stream",
     "text": [
      "/home/paul/uni/deeplearning/bitorch/venv/lib/python3.10/site-packages/tqdm/auto.py:22: TqdmWarning: IProgress not found. Please update jupyter and ipywidgets. See https://ipywidgets.readthedocs.io/en/stable/user_install.html\n",
      "  from .autonotebook import tqdm as notebook_tqdm\n"
     ]
    }
   ],
   "source": [
    "from bitorch.models import ResnetE18\n",
    "import torch\n",
    "from torch.utils.data import Dataset\n",
    "from torchvision import transforms\n",
    "from torchvision.datasets import ImageFolder\n",
    "from pathlib import Path\n",
    "import matplotlib.pyplot as plt\n",
    "import time\n",
    "import random\n",
    "import numpy as np\n",
    "import os\n",
    "\n",
    "\n",
    "device = torch.device(\"cuda\" if torch.cuda.is_available() else \"cpu\")\n",
    "\n",
    "if os.environ.get(\"IMAGENET_DATA_DIR\") is None:\n",
    "    data_dir = Path.home() / \"data\" / \"imagenet\"\n",
    "    print(\"IMAGENET_DATA_DIR environment variable is not set, using default:\", str(data_dir.resolve()))\n",
    "else:\n",
    "    data_dir = Path(os.environ[\"IMAGENET_DATA_DIR\"])"
   ]
  },
  {
   "cell_type": "code",
   "execution_count": null,
   "metadata": {},
   "outputs": [],
   "source": [
    "class ImageNet(Dataset):\n",
    "    name = \"imagenet\"\n",
    "    num_classes = 1000\n",
    "    shape = (1, 3, 224, 224)\n",
    "    mean = (0.485, 0.456, 0.406)\n",
    "    std_dev = (0.229, 0.224, 0.255)\n",
    "    num_train_samples = 1281167\n",
    "    num_val_samples = 50000\n",
    "    \n",
    "    def __init__(self, root_directory: Path, is_train: bool = True):\n",
    "        self.root_directory = root_directory\n",
    "        self.is_train = is_train\n",
    "        self.dataset = self.get_dataset(download=False)\n",
    "\n",
    "    def get_data_dir(self) -> Path:\n",
    "        split = \"train\" if self.is_train else \"val\"\n",
    "        directory = self.root_directory / split\n",
    "        return directory\n",
    "\n",
    "    def get_transform(self) -> transforms.Compose:\n",
    "        return self.train_transform() if self.is_train else self.test_transform()\n",
    "\n",
    "    def get_dataset(self) -> Dataset:\n",
    "        directory = self.get_data_dir()\n",
    "        print(\"got directory for imagenet:\", directory)\n",
    "        if not directory.is_dir():\n",
    "            raise RuntimeError(f\"ImageNet directory {str(directory.resolve())} does not exist!\")\n",
    "        return ImageFolder(directory, transform=self.get_transform())\n",
    "\n",
    "    @classmethod\n",
    "    def train_transform(cls) -> transforms.Compose:\n",
    "        crop_scale = 0.08\n",
    "        return transforms.Compose(\n",
    "            [\n",
    "                transforms.RandomResizedCrop(224, scale=(crop_scale, 1.0)),\n",
    "                transforms.RandomHorizontalFlip(),\n",
    "                transforms.ToTensor(),\n",
    "                cls.get_normalize_transform(),\n",
    "            ]\n",
    "        )\n",
    "\n",
    "    @classmethod\n",
    "    def test_transform(cls) -> transforms.Compose:\n",
    "        return transforms.Compose(\n",
    "            [\n",
    "                transforms.Resize(256),\n",
    "                transforms.CenterCrop(224),\n",
    "                transforms.ToTensor(),\n",
    "                cls.get_normalize_transform(),\n",
    "            ]\n",
    "        )\n",
    "\n",
    "test_dataset = ImageNet(data_dir, is_train=False)"
   ]
  },
  {
   "cell_type": "code",
   "execution_count": null,
   "metadata": {},
   "outputs": [],
   "source": [
    "model = ResnetE18.from_pretrained(input_shape=ImageNet.shape, num_classes=ImageNet.num_classes)\n",
    "model = model.to(device)"
   ]
  },
  {
   "cell_type": "code",
   "execution_count": null,
   "metadata": {},
   "outputs": [],
   "source": [
    "from bitorch.layers import convert\n",
    "from bitorch import RuntimeMode\n",
    "import bitorch_engine\n",
    "\n",
    "bitorch_engine.initialize()\n",
    "\n",
    "model = convert(model, RuntimeMode.INFERENCE_AUTO, device=device, verbose=True)"
   ]
  },
  {
   "cell_type": "code",
   "execution_count": null,
   "metadata": {},
   "outputs": [],
   "source": [
    "def show_picture(picture):\n",
    "    plt.imshow(np.transpose(picture, (1, 2, 0)))\n",
    "    plt.show()\n",
    "\n",
    "random_image = test_dataset[random.randint(0, len(test_dataset) - 1)][0]\n",
    "random_image = random_image.unsqueeze(0).to(device)\n",
    "\n",
    "start = time.time()\n",
    "prediction = model(random_image)\n",
    "duration = time.time() - start\n",
    "\n",
    "print(f\"Prediction: {prediction} (took {duration:.2f} seconds)\")\n",
    "show_picture(random_image.cpu().detach().numpy()[0])"
   ]
  }
 ],
 "metadata": {
  "kernelspec": {
   "display_name": "venv",
   "language": "python",
   "name": "python3"
  },
  "language_info": {
   "codemirror_mode": {
    "name": "ipython",
    "version": 3
   },
   "file_extension": ".py",
   "mimetype": "text/x-python",
   "name": "python",
   "nbconvert_exporter": "python",
   "pygments_lexer": "ipython3",
   "version": "3.10.6 (main, Nov 14 2022, 16:10:14) [GCC 11.3.0]"
  },
  "orig_nbformat": 4,
  "vscode": {
   "interpreter": {
    "hash": "dbb0d34515edfeb971ab987e8c020a53326e429c175bd872c5d27ea669277b79"
   }
  }
 },
 "nbformat": 4,
 "nbformat_minor": 2
}
